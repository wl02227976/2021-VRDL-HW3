{
 "cells": [
  {
   "cell_type": "code",
   "execution_count": 3,
   "id": "77af0df6",
   "metadata": {},
   "outputs": [],
   "source": [
    "with open('../../test.json', 'w') as fp:\n",
    "        fp.write('test')"
   ]
  },
  {
   "cell_type": "code",
   "execution_count": null,
   "id": "f1afb06b",
   "metadata": {},
   "outputs": [],
   "source": []
  }
 ],
 "metadata": {
  "kernelspec": {
   "display_name": "Python 3",
   "language": "python",
   "name": "python3"
  },
  "language_info": {
   "codemirror_mode": {
    "name": "ipython",
    "version": 3
   },
   "file_extension": ".py",
   "mimetype": "text/x-python",
   "name": "python",
   "nbconvert_exporter": "python",
   "pygments_lexer": "ipython3",
   "version": "3.6.13"
  }
 },
 "nbformat": 4,
 "nbformat_minor": 5
}
